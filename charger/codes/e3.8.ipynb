{
 "cells": [
  {
   "cell_type": "code",
   "execution_count": 192,
   "metadata": {},
   "outputs": [],
   "source": [
    "import numpy as np\n",
    "import matplotlib.pyplot as plt\n",
    "import scipy.fft as fft\n",
    "import subprocess\n",
    "import shlex\n",
    "\n",
    "A = 12\n",
    "f0 = 50\n",
    "x = lambda t :  A * np.abs(np.sin(2 * np.pi * f0 * t) )\n",
    "\n",
    "ts =  1e-4\n",
    "t = np.arange(-2/f0, 2/f0, ts)\n",
    "fs = np.arange(-10*f0, 10*f0, f0/2)\n",
    "xn = x(t)\n",
    "\n",
    "Xk_theo = (fft.fft(xn))\n",
    "fft_freq = fft.fftfreq(xn.size, d=ts)\n",
    "\n",
    "\n"
   ]
  },
  {
   "cell_type": "code",
   "execution_count": 194,
   "metadata": {},
   "outputs": [],
   "source": [
    "def fft_calc(k):\n",
    "    global A\n",
    "    return 2 * A /(np.pi * (1 - 4*k**2))\n",
    "\n",
    "def XK_calc(f):\n",
    "    if np.abs(f)%(2*f0)==0:\n",
    "        return 800*fft_calc(f/(2*f0))\n",
    "    else:\n",
    "        return 0"
   ]
  },
  {
   "cell_type": "code",
   "execution_count": 210,
   "metadata": {},
   "outputs": [
    {
     "name": "stdout",
     "output_type": "stream",
     "text": [
      "-2037.1832715762605\n"
     ]
    }
   ],
   "source": [
    "xk_cal = []\n",
    "\n",
    "for i in fs:\n",
    "    #xk_cal.append([[i, i],[0, XK_calc(i)]])\n",
    "    xk_cal.append(XK_calc(i))"
   ]
  },
  {
   "cell_type": "code",
   "execution_count": 221,
   "metadata": {},
   "outputs": [
    {
     "data": {
      "image/png": "[encoded data removed]",
      "text/plain": [
       "<Figure size 432x288 with 1 Axes>"
      ]
     },
     "metadata": {
      "needs_background": "light"
     },
     "output_type": "display_data"
    }
   ],
   "source": [
    "\n",
    "plt.stem(fs,np.abs(xk_cal), 'C1')\n",
    "plt.plot(fft_freq, np.abs(Xk_theo), 'C2*')\n",
    "plt.xlim(-10*f0, 10*f0)\n",
    "plt.show()"
   ]
  }
 ],
 "metadata": {
  "kernelspec": {
   "display_name": "Python 3.10.6 64-bit",
   "language": "python",
   "name": "python3"
  },
  "language_info": {
   "codemirror_mode": {
    "name": "ipython",
    "version": 3
   },
   "file_extension": ".py",
   "mimetype": "text/x-python",
   "name": "python",
   "nbconvert_exporter": "python",
   "pygments_lexer": "ipython3",
   "version": "3.10.6"
  },
  "orig_nbformat": 4,
  "vscode": {
   "interpreter": {
    "hash": "916dbcbb3f70747c44a77c7bcd40155683ae19c65e1c03b4aa3499c5328201f1"
   }
  }
 },
 "nbformat": 4,
 "nbformat_minor": 2
}
