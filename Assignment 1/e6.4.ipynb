{
 "cells": [
  {
   "cell_type": "markdown",
   "metadata": {},
   "source": [
    "X0,...,N−1 ← ditfft2(x, N, s): \n",
    "\n",
    "            DFT of (x0, xs, x2s, ..., x(N-1)s):\n",
    "\n",
    "    if N = 1 then\n",
    "\n",
    "        X0 ← x0                                        #trivial size-1 DFT base case\n",
    "\n",
    "    else\n",
    "\n",
    "        X0,...,N/2−1 ← ditfft2(x, N/2, 2s)             #DFT of (x0, x2s, x4s, ..., x(N-2)s)\n",
    "\n",
    "        XN/2,...,N−1 ← ditfft2(x+s, N/2, 2s)           #DFT of (xs, xs+2s, xs+4s, ..., x(N-1)s)\n",
    "\n",
    "        for k = 0 to N/2−1 do                          #combine DFTs of two halves into full DFT:\n",
    "\n",
    "            p ← Xk\n",
    "\n",
    "            q ← exp(−2πi/N k) Xk+N/2\n",
    "\n",
    "            Xk ← p + q \n",
    "\n",
    "            Xk+N/2 ← p − q\n",
    "\n",
    "        end for\n",
    "\n",
    "    end if"
   ]
  },
  {
   "cell_type": "code",
   "execution_count": 19,
   "metadata": {},
   "outputs": [],
   "source": [
    "import numpy as np\n",
    "\n",
    "\n",
    "def fast_fourier(x, n, s=1):\n",
    "    X = np.zeros(n)\n",
    "    if n == 1:\n",
    "        X[0] = x[0]\n",
    "    else:\n",
    "        X[n/2 - 1] = fast_fourier(x, n/2, 2*s)\n",
    "        X[n/2] = fast_fourier(x[s:], n/2, 2*s)\n",
    "        for k in range(n/2 - 1):\n",
    "            p = X[k]\n",
    "            q = np.exp(-1j * 2 * np.pi*k/n)*X[k+n/2]\n",
    "            Xk = p + q \n",
    "            X[k+n/2] = p - q\n",
    "\n",
    "    return X"
   ]
  },
  {
   "cell_type": "code",
   "execution_count": null,
   "metadata": {},
   "outputs": [],
   "source": []
  }
 ],
 "metadata": {
  "kernelspec": {
   "display_name": "Python 3.10.4 64-bit",
   "language": "python",
   "name": "python3"
  },
  "language_info": {
   "codemirror_mode": {
    "name": "ipython",
    "version": 3
   },
   "file_extension": ".py",
   "mimetype": "text/x-python",
   "name": "python",
   "nbconvert_exporter": "python",
   "pygments_lexer": "ipython3",
   "version": "3.10.4"
  },
  "orig_nbformat": 4,
  "vscode": {
   "interpreter": {
    "hash": "916dbcbb3f70747c44a77c7bcd40155683ae19c65e1c03b4aa3499c5328201f1"
   }
  }
 },
 "nbformat": 4,
 "nbformat_minor": 2
}
