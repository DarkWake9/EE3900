{
 "cells": [
  {
   "cell_type": "code",
   "execution_count": 1,
   "metadata": {},
   "outputs": [
    {
     "name": "stdout",
     "output_type": "stream",
     "text": [
      "\n",
      "Re{y}\n",
      "\n",
      "[ 0.99267578  1.50305176  3.24755859  4.375       2.81188965  3.59375\n",
      "  0.203125    0.8984375  -0.44921875  0.22460937 -0.11230469  0.05615234\n",
      " -0.02807617  0.01403809]\n"
     ]
    }
   ],
   "source": [
    "import numpy as np\n",
    "import matplotlib.pyplot as plt\n",
    "#If using termux\n",
    "import subprocess\n",
    "import shlex\n",
    "#end if\n",
    "\n",
    "\n",
    "N = 14\n",
    "n = np.arange(N)\n",
    "fn=(-1/2)**n\n",
    "hn1=np.pad(fn, (0,2), 'constant', constant_values=(0))\n",
    "hn2=np.pad(fn, (2,0), 'constant', constant_values=(0))\n",
    "h = hn1+hn2\n",
    "\n",
    "xtemp=np.array([1.0,2.0,3.0,4.0,2.0,1.0])\n",
    "x=np.pad(xtemp, (0,8), 'constant', constant_values=(0))\n",
    "\n",
    "X = np.zeros(N) + 1j*np.zeros(N)\n",
    "for k in range(0,N):\n",
    "\tfor n in range(0,N):\n",
    "\t\tX[k]+=x[n]*np.exp(-1j*2*np.pi*n*k/N)\n",
    "H = np.zeros(N) + 1j*np.zeros(N)\n",
    "for k in range(0,N):\n",
    "\tfor n in range(0,N):\n",
    "\t\tH[k]+=h[n]*np.exp(-1j*2*np.pi*n*k/N)\n",
    "\n",
    "Y = np.zeros(N) + 1j*np.zeros(N)\n",
    "for k in range(0,N):\n",
    "\tY[k] = X[k]*H[k]\n",
    "\n",
    "y = np.zeros(N) + 1j*np.zeros(N)\n",
    "for k in range(0,N):\n",
    "\tfor n in range(0,N):\n",
    "\t\ty[k]+=Y[n]*np.exp(1j*2*np.pi*n*k/N)\n",
    "\n",
    "#print(\"X\\n\")\n",
    "#print(X)\n",
    "#print(\"\\ny\\n\")\n",
    "#print(y)\n",
    "y = np.real(y)/N\n",
    "print(\"\\nRe{y}\\n\")\n",
    "print(y)"
   ]
  },
  {
   "cell_type": "code",
   "execution_count": 4,
   "metadata": {},
   "outputs": [
    {
     "name": "stdout",
     "output_type": "stream",
     "text": [
      "\n",
      "Re{y}\n",
      "\n",
      "[ 0.99267578  1.50305176  3.24755859  4.375       2.81188965  3.59375\n",
      "  0.203125    0.8984375  -0.44921875  0.22460937 -0.11230469  0.05615234\n",
      " -0.02807617  0.01403809]\n"
     ]
    }
   ],
   "source": [
    "import numpy as np\n",
    "import matplotlib.pyplot as plt\n",
    "\n",
    "#defining x(n) as shown in 3.2\n",
    "\n",
    "def x(n):\n",
    "    #if n < 0:\n",
    "    #    return 0\n",
    "    if n >= 0 and n < 6:\n",
    "        x_dict = {0:1,1:2,2:3,3:4,4:2,5:1}\n",
    "        return x_dict[n]\n",
    "    else:\n",
    "        return 0\n",
    "N = 6\n",
    "def Xx(N):\n",
    "    X = [0]*N\n",
    "    for k in range(len(X)):\n",
    "        for n in range(N):\n",
    "            X[k] += x(n)*np.exp(-1j * 2 * np.pi * k * n / N)  \n",
    "    return X\n",
    "\n",
    "#defining h(n) as shown in 5.6\n",
    "def h(n):\n",
    "    if n < 0:\n",
    "        return 0\n",
    "\n",
    "    elif n == 0:\n",
    "        return 1    #h(0) = 1\n",
    "        \n",
    "    elif n == 1:\n",
    "        return -0.5 #h(1) = -1/2\n",
    "    else:\n",
    "        return 5.0 * ((-0.5)**n)\n",
    "#N = 15\n",
    "def Hh(N):\n",
    "    H = [0]*N\n",
    "    for k in range(len(H)):\n",
    "        for n in range(N):\n",
    "            H[k] += h(n) * np.exp(-1j*2*np.pi * k * n / N)  \n",
    "    return H\n",
    "N = 14\n",
    "\n",
    "X = Xx(N)\n",
    "H = Hh(N)\n",
    "\n",
    "Y = [X[k] * H[k] for k in range(N)]\n",
    "\n",
    "y = np.zeros(N) + 1j*np.zeros(N)\n",
    "for k in range(0,N):\n",
    "\tfor n in range(0,N):\n",
    "\t\ty[k]+=Y[n]*np.exp(1j*2*np.pi*n*k/N)\n",
    "\n",
    "y = np.real(y)/N\n",
    "print(\"\\nRe{y}\\n\")\n",
    "print(y)"
   ]
  },
  {
   "cell_type": "code",
   "execution_count": null,
   "metadata": {},
   "outputs": [],
   "source": []
  }
 ],
 "metadata": {
  "kernelspec": {
   "display_name": "Python 3.10.4 64-bit",
   "language": "python",
   "name": "python3"
  },
  "language_info": {
   "codemirror_mode": {
    "name": "ipython",
    "version": 3
   },
   "file_extension": ".py",
   "mimetype": "text/x-python",
   "name": "python",
   "nbconvert_exporter": "python",
   "pygments_lexer": "ipython3",
   "version": "3.10.4"
  },
  "orig_nbformat": 4,
  "vscode": {
   "interpreter": {
    "hash": "916dbcbb3f70747c44a77c7bcd40155683ae19c65e1c03b4aa3499c5328201f1"
   }
  }
 },
 "nbformat": 4,
 "nbformat_minor": 2
}
